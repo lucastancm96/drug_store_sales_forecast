{
 "metadata": {
  "language_info": {
   "codemirror_mode": {
    "name": "ipython",
    "version": 3
   },
   "file_extension": ".py",
   "mimetype": "text/x-python",
   "name": "python",
   "nbconvert_exporter": "python",
   "pygments_lexer": "ipython3",
   "version": "3.7.6-final"
  },
  "orig_nbformat": 2,
  "kernelspec": {
   "name": "python_defaultSpec_1599880121929",
   "display_name": "Python 3.7.6 64-bit ('base': conda)"
  }
 },
 "nbformat": 4,
 "nbformat_minor": 2,
 "cells": [
  {
   "source": [
    "### Import libraries"
   ],
   "cell_type": "markdown",
   "metadata": {}
  },
  {
   "cell_type": "code",
   "execution_count": 2,
   "metadata": {},
   "outputs": [],
   "source": [
    "import pandas as pd\n",
    "import numpy as np\n",
    "import matplotlib.pyplot as plt"
   ]
  },
  {
   "source": [
    "### Create common functions\n",
    "Simple functions that will be used frequently"
   ],
   "cell_type": "markdown",
   "metadata": {}
  },
  {
   "cell_type": "code",
   "execution_count": 3,
   "metadata": {},
   "outputs": [],
   "source": [
    "# Open csv\n",
    "def open_csv(fname):\n",
    "    df = pd.read_csv('csv/' + fname)\n",
    "    return df\n",
    "\n",
    "# Save csv\n",
    "def save_csv(fname):\n",
    "    pd.to_csv('csv/' + fname)"
   ]
  },
  {
   "source": [
    "### Import data and perform basic exploration\n",
    "There are three main data:\n",
    "* DA1920_store.csv\n",
    "    * Contains supplementary information of 1,115 drug stores.\n",
    "\n",
    "* DA1920_train.csv\n",
    "    * Contains the historical sales data from 01/01/2013 to 31/07/2015\n",
    "    \n",
    "* DA1920_test.csv\n",
    "    * Identical to train but without sales and customers data.\n",
    "\n",
    "The goal is to use the train data to build predictive models and forecast the sales of the test data."
   ],
   "cell_type": "markdown",
   "metadata": {}
  },
  {
   "cell_type": "code",
   "execution_count": 4,
   "metadata": {},
   "outputs": [],
   "source": [
    "store = open_csv('DA1920_store.csv')\n",
    "train = open_csv('DA1920_train.csv')\n",
    "test = open_csv('DA1920_test.csv')"
   ]
  },
  {
   "cell_type": "code",
   "execution_count": 5,
   "metadata": {
    "tags": []
   },
   "outputs": [
    {
     "output_type": "stream",
     "name": "stdout",
     "text": "<class 'pandas.core.frame.DataFrame'>\nRangeIndex: 1115 entries, 0 to 1114\nData columns (total 12 columns):\n #   Column                     Non-Null Count  Dtype  \n---  ------                     --------------  -----  \n 0   Store                      1115 non-null   int64  \n 1   StoreType                  1115 non-null   object \n 2   Assortment                 1115 non-null   object \n 3   CompetitionDistance        1112 non-null   float64\n 4   CompetitionOpenSinceMonth  761 non-null    float64\n 5   CompetitionOpenSinceYear   761 non-null    float64\n 6   Promo2                     1115 non-null   int64  \n 7   Promo2SinceWeek            571 non-null    float64\n 8   Promo2SinceYear            571 non-null    float64\n 9   PromoInterval              571 non-null    object \n 10  Unnamed: 10                0 non-null      float64\n 11  Unnamed: 11                1 non-null      object \ndtypes: float64(6), int64(2), object(4)\nmemory usage: 104.7+ KB\n"
    }
   ],
   "source": [
    "store.info()"
   ]
  },
  {
   "cell_type": "code",
   "execution_count": 6,
   "metadata": {
    "tags": []
   },
   "outputs": [
    {
     "output_type": "stream",
     "name": "stdout",
     "text": "<class 'pandas.core.frame.DataFrame'>\nRangeIndex: 1017209 entries, 0 to 1017208\nData columns (total 9 columns):\n #   Column         Non-Null Count    Dtype \n---  ------         --------------    ----- \n 0   Store          1017209 non-null  int64 \n 1   DayOfWeek      1017209 non-null  int64 \n 2   Date           1017209 non-null  object\n 3   Sales          1017209 non-null  int64 \n 4   Customers      1017209 non-null  int64 \n 5   Open           1017209 non-null  int64 \n 6   Promo          1017209 non-null  int64 \n 7   StateHoliday   1017209 non-null  object\n 8   SchoolHoliday  1017209 non-null  int64 \ndtypes: int64(7), object(2)\nmemory usage: 69.8+ MB\n"
    }
   ],
   "source": [
    "train.info()"
   ]
  },
  {
   "cell_type": "code",
   "execution_count": 7,
   "metadata": {
    "tags": []
   },
   "outputs": [
    {
     "output_type": "stream",
     "name": "stdout",
     "text": "<class 'pandas.core.frame.DataFrame'>\nRangeIndex: 41088 entries, 0 to 41087\nData columns (total 9 columns):\n #   Column         Non-Null Count  Dtype  \n---  ------         --------------  -----  \n 0   Store          41088 non-null  int64  \n 1   DayOfWeek      41088 non-null  int64  \n 2   Date           41088 non-null  object \n 3   Sales          0 non-null      float64\n 4   Customers      0 non-null      float64\n 5   Open           41077 non-null  float64\n 6   Promo          41088 non-null  int64  \n 7   StateHoliday   41088 non-null  object \n 8   SchoolHoliday  41088 non-null  int64  \ndtypes: float64(3), int64(4), object(2)\nmemory usage: 2.8+ MB\n"
    }
   ],
   "source": [
    "test.info()"
   ]
  }
 ]
}